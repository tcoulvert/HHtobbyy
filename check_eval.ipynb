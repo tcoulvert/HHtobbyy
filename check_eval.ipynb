{
 "cells": [
  {
   "cell_type": "code",
   "execution_count": 7,
   "metadata": {},
   "outputs": [],
   "source": [
    "import json\n",
    "from pathlib import Path\n",
    "\n",
    "import awkward as ak\n",
    "import numpy as np\n",
    "import hist\n",
    "import mplhep as hep\n",
    "import matplotlib.pyplot as plt\n",
    "\n",
    "from data_processing import process_data"
   ]
  },
  {
   "cell_type": "code",
   "execution_count": 12,
   "metadata": {},
   "outputs": [
    {
     "name": "stdout",
     "output_type": "stream",
     "text": [
      "Data list: (413735, 6, 7)\n",
      "Data HLF: (413735, 15)\n",
      "n signal = 136530, n bkg = 277205\n",
      "Data list test: (103521, 6, 7)\n",
      "Data HLF test: (103521, 15)\n",
      "n signal = 34224, n bkg = 69297\n",
      "Data list: (413918, 6, 7)\n",
      "Data HLF: (413918, 15)\n",
      "n signal = 136466, n bkg = 277452\n",
      "Data list test: (103338, 6, 7)\n",
      "Data HLF test: (103338, 15)\n",
      "n signal = 34288, n bkg = 69050\n",
      "Data list: (413265, 6, 7)\n",
      "Data HLF: (413265, 15)\n",
      "n signal = 136638, n bkg = 276627\n",
      "Data list test: (103991, 6, 7)\n",
      "Data HLF test: (103991, 15)\n",
      "n signal = 34116, n bkg = 69875\n",
      "Data list: (413725, 6, 7)\n",
      "Data HLF: (413725, 15)\n",
      "n signal = 136671, n bkg = 277054\n",
      "Data list test: (103531, 6, 7)\n",
      "Data HLF test: (103531, 15)\n",
      "n signal = 34083, n bkg = 69448\n",
      "Data list: (414381, 6, 7)\n",
      "Data HLF: (414381, 15)\n",
      "n signal = 136711, n bkg = 277670\n",
      "Data list test: (102875, 6, 7)\n",
      "Data HLF test: (102875, 15)\n",
      "n signal = 34043, n bkg = 68832\n"
     ]
    }
   ],
   "source": [
    "SIGNAL_FILEPATHS = [\n",
    "    '/uscms/home/tsievert/nobackup/XHYbbgg/HHtobbyy/output_ttHKiller_eval_postEE/GluGluToHH_nominal_ttH_killer_preds.parquet',\n",
    "    '/uscms/home/tsievert/nobackup/XHYbbgg/HHtobbyy/output_ttHKiller_eval_preEE/GluGluToHH_nominal_ttH_killer_preds.parquet'\n",
    "]\n",
    "BKG_FILEPATHS = [\n",
    "    '/uscms/home/tsievert/nobackup/XHYbbgg/HHtobbyy/output_ttHKiller_eval_postEE/ttHToGG_nominal_ttH_killer_preds.parquet',\n",
    "    '/uscms/home/tsievert/nobackup/XHYbbgg/HHtobbyy/output_ttHKiller_eval_preEE/ttHToGG_nominal_ttH_killer_preds.parquet'\n",
    "]\n",
    "\n",
    "sig_samples_list = [ak.from_parquet(sig_filepath) for sig_filepath in SIGNAL_FILEPATHS]\n",
    "sig_sample = ak.concatenate(sig_samples_list)\n",
    "bkg_samples_list = [ak.from_parquet(bkg_filepath) for bkg_filepath in BKG_FILEPATHS]\n",
    "bkg_sample = ak.concatenate(bkg_samples_list)\n",
    "\n",
    "CURRENT_DIRPATH = str(Path().absolute())\n",
    "VERSION = 'v10'\n",
    "VARS = 'extra_vars+max'\n",
    "CURRENT_TIME = '2024-10-29_00-47-20'\n",
    "OUTPUT_DIRPATH = CURRENT_DIRPATH + f\"/model_outputs/{VERSION}/{VARS}/\" + CURRENT_TIME\n",
    "SEED = 21\n",
    "MOD_VALS = (5, 5)\n",
    "\n",
    "(\n",
    "    data_df_dict, data_test_df_dict, \n",
    "    data_list_dict, data_hlf_dict, label_dict, \n",
    "    data_list_test_dict, data_hlf_test_dict, label_test_dict, \n",
    "    high_level_fields_dict, input_hlf_vars_dict, hlf_vars_columns_dict,\n",
    "    data_aux_dict, data_test_aux_dict\n",
    ") = process_data(\n",
    "    6, 7, SIGNAL_FILEPATHS, BKG_FILEPATHS, OUTPUT_DIRPATH, seed=SEED, mod_vals=MOD_VALS, k_fold_test=True\n",
    ")"
   ]
  },
  {
   "cell_type": "code",
   "execution_count": 8,
   "metadata": {},
   "outputs": [],
   "source": [
    "\n",
    "def plot_score_from_IN_perf(weights, n_bins=50):\n",
    "    with open(\n",
    "        \"\"\"/uscms/home/tsievert/nobackup/XHYbbgg/HHtobbyy/model_outputs/v10/\n",
    "        extra_vars+max/2024-10-29_00-47-20/2024-10-29_00-47-20_IN_perf.json\"\"\", 'r'\n",
    "    ) as f:\n",
    "        IN_info = json.load(f)\n",
    "\n",
    "    flat_preds = np.concatenate([\n",
    "        np.exp(IN_info['all_preds'][i])[:, 1] for i in range(len(IN_info['all_preds']))\n",
    "    ], axis=None)\n",
    "    flat_labels = np.concatenate([\n",
    "        np.array(IN_info['all_labels'][i]) for i in range(len(IN_info['all_preds']))\n",
    "    ], axis=None)\n",
    "    sig_preds = flat_preds[flat_labels == 1]\n",
    "    bkg_preds = flat_preds[flat_labels == 0]\n",
    "\n",
    "    hist_axis = hist.axis.Regular(n_bins, 0., 1., name='var', growth=False, underflow=False, overflow=False)\n",
    "    sig_hist = hist.Hist(hist_axis, storage='weight').fill(var=sig_preds, weight=weights['sig'] if weights['sig'] is not None else np.ones_like(sig_preds))\n",
    "    bkg_hist = hist.Hist(hist_axis, storage='weight').fill(var=bkg_preds, weight=weights['bkg'] if weights['bkg'] is not None else np.ones_like(bkg_preds))\n",
    "    hep.histplot(\n",
    "        [sig_hist, bkg_hist],\n",
    "        yerr=(True if weights['sig'] is not None else False),\n",
    "        alpha=0.5, density=(False if weights['sig'] is not None else True), histtype='step',\n",
    "        label=[\"ggF HH\", \"ttH\"], linestyle=['solid', 'solid'], colors=['blue', 'red']\n",
    "    )\n",
    "\n",
    "def plot_score_from_eval(samples, weights, n_bins=50):\n",
    "    sig_preds = ak.to_numpy(samples['sig']['ttH_killer_preds'])\n",
    "    bkg_preds = ak.to_numpy(samples['bkg']['ttH_killer_preds'])\n",
    "\n",
    "    hist_axis = hist.axis.Regular(n_bins, 0., 1., name='var', growth=False, underflow=False, overflow=False)\n",
    "    sig_hist = hist.Hist(hist_axis, storage='weight').fill(var=sig_preds, weight=weights['sig'] if weights['sig'] is not None else np.ones_like(sig_preds))\n",
    "    bkg_hist = hist.Hist(hist_axis, storage='weight').fill(var=bkg_preds, weight=weights['bkg'] if weights['bkg'] is not None else np.ones_like(bkg_preds))\n",
    "    hep.histplot(\n",
    "        [sig_hist, bkg_hist],\n",
    "        yerr=(True if weights['sig'] is not None else False),\n",
    "        alpha=0.5, density=(False if weights['sig'] is not None else True), histtype='step',\n",
    "        label=[\"ggF HH\", \"ttH\"], linestyle=['dashed', 'dashed'], colors=['yellow', 'green']\n",
    "    )"
   ]
  },
  {
   "cell_type": "code",
   "execution_count": 13,
   "metadata": {},
   "outputs": [],
   "source": [
    "IN_weights = {'sig': [], 'bkg': []}\n",
    "for fold_idx in range(len(data_test_aux_dict)):\n",
    "    IN_weights['sig'].append(\n",
    "        (\n",
    "            data_test_aux_dict[f'fold_{fold_idx}'].loc[:, \"eventWeight\"].to_numpy()\n",
    "        )[label_test_dict[f'fold_{fold_idx}'] == 1]\n",
    "    )\n",
    "    IN_weights['bkg'].append(\n",
    "        (\n",
    "            data_test_aux_dict[f'fold_{fold_idx}'].loc[:, \"eventWeight\"].to_numpy()\n",
    "        )[label_test_dict[f'fold_{fold_idx}'] == 0]\n",
    "    )\n",
    "IN_weights['sig'] = np.concatenate(IN_weights['sig'])\n",
    "IN_weights['bkg'] = np.concatenate(IN_weights['bkg'])\n",
    "\n",
    "weights = {'sig': ak.to_numpy(sig_sample['eventWeight']), 'bkg': ak.to_numpy(bkg_sample['eventWeight'])}\n",
    "samples = {'sig': sig_sample, 'bkg': bkg_sample}\n"
   ]
  },
  {
   "cell_type": "code",
   "execution_count": 14,
   "metadata": {},
   "outputs": [
    {
     "ename": "FileNotFoundError",
     "evalue": "[Errno 2] No such file or directory: '/uscms/home/tsievert/nobackup/XHYbbgg/HHtobbyy/model_outputs/v10/\\n        extra_vars+max/2024-10-29_00-47-20/2024-10-29_00-47-20_IN_perf.json'",
     "output_type": "error",
     "traceback": [
      "\u001b[0;31m---------------------------------------------------------------------------\u001b[0m",
      "\u001b[0;31mFileNotFoundError\u001b[0m                         Traceback (most recent call last)",
      "Cell \u001b[0;32mIn[14], line 3\u001b[0m\n\u001b[1;32m      1\u001b[0m plt\u001b[38;5;241m.\u001b[39mfigure(figsize\u001b[38;5;241m=\u001b[39m(\u001b[38;5;241m9\u001b[39m,\u001b[38;5;241m7\u001b[39m))\n\u001b[0;32m----> 3\u001b[0m \u001b[43mplot_score_from_IN_perf\u001b[49m\u001b[43m(\u001b[49m\u001b[43mIN_weights\u001b[49m\u001b[43m)\u001b[49m\n\u001b[1;32m      4\u001b[0m plot_score_from_eval(samples, weights)\n\u001b[1;32m      6\u001b[0m plt\u001b[38;5;241m.\u001b[39mlegend(bbox_to_anchor\u001b[38;5;241m=\u001b[39m(\u001b[38;5;241m1\u001b[39m, \u001b[38;5;241m1\u001b[39m))\n",
      "Cell \u001b[0;32mIn[8], line 2\u001b[0m, in \u001b[0;36mplot_score_from_IN_perf\u001b[0;34m(weights, n_bins)\u001b[0m\n\u001b[1;32m      1\u001b[0m \u001b[38;5;28;01mdef\u001b[39;00m \u001b[38;5;21mplot_score_from_IN_perf\u001b[39m(weights, n_bins\u001b[38;5;241m=\u001b[39m\u001b[38;5;241m50\u001b[39m):\n\u001b[0;32m----> 2\u001b[0m     \u001b[38;5;28;01mwith\u001b[39;00m \u001b[38;5;28;43mopen\u001b[39;49m\u001b[43m(\u001b[49m\n\u001b[1;32m      3\u001b[0m \u001b[38;5;250;43m        \u001b[39;49m\u001b[38;5;124;43;03m\"\"\"/uscms/home/tsievert/nobackup/XHYbbgg/HHtobbyy/model_outputs/v10/\u001b[39;49;00m\n\u001b[1;32m      4\u001b[0m \u001b[38;5;124;43;03m        extra_vars+max/2024-10-29_00-47-20/2024-10-29_00-47-20_IN_perf.json\"\"\"\u001b[39;49;00m\u001b[43m,\u001b[49m\u001b[43m \u001b[49m\u001b[38;5;124;43m'\u001b[39;49m\u001b[38;5;124;43mr\u001b[39;49m\u001b[38;5;124;43m'\u001b[39;49m\n\u001b[1;32m      5\u001b[0m \u001b[43m    \u001b[49m\u001b[43m)\u001b[49m \u001b[38;5;28;01mas\u001b[39;00m f:\n\u001b[1;32m      6\u001b[0m         IN_info \u001b[38;5;241m=\u001b[39m json\u001b[38;5;241m.\u001b[39mload(f)\n\u001b[1;32m      8\u001b[0m     flat_preds \u001b[38;5;241m=\u001b[39m np\u001b[38;5;241m.\u001b[39mconcatenate([\n\u001b[1;32m      9\u001b[0m         np\u001b[38;5;241m.\u001b[39mexp(IN_info[\u001b[38;5;124m'\u001b[39m\u001b[38;5;124mall_preds\u001b[39m\u001b[38;5;124m'\u001b[39m][i])[:, \u001b[38;5;241m1\u001b[39m] \u001b[38;5;28;01mfor\u001b[39;00m i \u001b[38;5;129;01min\u001b[39;00m \u001b[38;5;28mrange\u001b[39m(\u001b[38;5;28mlen\u001b[39m(IN_info[\u001b[38;5;124m'\u001b[39m\u001b[38;5;124mall_preds\u001b[39m\u001b[38;5;124m'\u001b[39m]))\n\u001b[1;32m     10\u001b[0m     ], axis\u001b[38;5;241m=\u001b[39m\u001b[38;5;28;01mNone\u001b[39;00m)\n",
      "File \u001b[0;32m~/nobackup/miniforge3/envs/higgs-dna/lib/python3.10/site-packages/IPython/core/interactiveshell.py:324\u001b[0m, in \u001b[0;36m_modified_open\u001b[0;34m(file, *args, **kwargs)\u001b[0m\n\u001b[1;32m    317\u001b[0m \u001b[38;5;28;01mif\u001b[39;00m file \u001b[38;5;129;01min\u001b[39;00m {\u001b[38;5;241m0\u001b[39m, \u001b[38;5;241m1\u001b[39m, \u001b[38;5;241m2\u001b[39m}:\n\u001b[1;32m    318\u001b[0m     \u001b[38;5;28;01mraise\u001b[39;00m \u001b[38;5;167;01mValueError\u001b[39;00m(\n\u001b[1;32m    319\u001b[0m         \u001b[38;5;124mf\u001b[39m\u001b[38;5;124m\"\u001b[39m\u001b[38;5;124mIPython won\u001b[39m\u001b[38;5;124m'\u001b[39m\u001b[38;5;124mt let you open fd=\u001b[39m\u001b[38;5;132;01m{\u001b[39;00mfile\u001b[38;5;132;01m}\u001b[39;00m\u001b[38;5;124m by default \u001b[39m\u001b[38;5;124m\"\u001b[39m\n\u001b[1;32m    320\u001b[0m         \u001b[38;5;124m\"\u001b[39m\u001b[38;5;124mas it is likely to crash IPython. If you know what you are doing, \u001b[39m\u001b[38;5;124m\"\u001b[39m\n\u001b[1;32m    321\u001b[0m         \u001b[38;5;124m\"\u001b[39m\u001b[38;5;124myou can use builtins\u001b[39m\u001b[38;5;124m'\u001b[39m\u001b[38;5;124m open.\u001b[39m\u001b[38;5;124m\"\u001b[39m\n\u001b[1;32m    322\u001b[0m     )\n\u001b[0;32m--> 324\u001b[0m \u001b[38;5;28;01mreturn\u001b[39;00m \u001b[43mio_open\u001b[49m\u001b[43m(\u001b[49m\u001b[43mfile\u001b[49m\u001b[43m,\u001b[49m\u001b[43m \u001b[49m\u001b[38;5;241;43m*\u001b[39;49m\u001b[43margs\u001b[49m\u001b[43m,\u001b[49m\u001b[43m \u001b[49m\u001b[38;5;241;43m*\u001b[39;49m\u001b[38;5;241;43m*\u001b[39;49m\u001b[43mkwargs\u001b[49m\u001b[43m)\u001b[49m\n",
      "\u001b[0;31mFileNotFoundError\u001b[0m: [Errno 2] No such file or directory: '/uscms/home/tsievert/nobackup/XHYbbgg/HHtobbyy/model_outputs/v10/\\n        extra_vars+max/2024-10-29_00-47-20/2024-10-29_00-47-20_IN_perf.json'"
     ]
    },
    {
     "data": {
      "text/plain": [
       "<Figure size 900x700 with 0 Axes>"
      ]
     },
     "metadata": {},
     "output_type": "display_data"
    }
   ],
   "source": [
    "plt.figure(figsize=(9,7))\n",
    "\n",
    "plot_score_from_IN_perf(IN_weights)\n",
    "plot_score_from_eval(samples, weights)\n",
    "\n",
    "plt.legend(bbox_to_anchor=(1, 1))\n",
    "plt.xlabel('Threshold')\n",
    "plt.ylabel('Weighted Counts')\n",
    "plt.show()"
   ]
  },
  {
   "cell_type": "code",
   "execution_count": null,
   "metadata": {},
   "outputs": [],
   "source": [
    "density_weights = {'sig': None, 'bkg': None}\n",
    "\n",
    "plt.figure(figsize=(9,7))\n",
    "\n",
    "plot_score_from_IN_perf(density_weights)\n",
    "plot_score_from_eval(samples, density_weights)\n",
    "\n",
    "plt.legend(bbox_to_anchor=(1, 1))\n",
    "plt.xlabel('Threshold')\n",
    "plt.ylabel('Density')\n",
    "plt.show()"
   ]
  }
 ],
 "metadata": {
  "kernelspec": {
   "display_name": "Python 3",
   "language": "python",
   "name": "python3"
  },
  "language_info": {
   "codemirror_mode": {
    "name": "ipython",
    "version": 3
   },
   "file_extension": ".py",
   "mimetype": "text/x-python",
   "name": "python",
   "nbconvert_exporter": "python",
   "pygments_lexer": "ipython3",
   "version": "3.10.15"
  }
 },
 "nbformat": 4,
 "nbformat_minor": 2
}
