{
 "cells": [
  {
   "cell_type": "code",
   "execution_count": 7,
   "metadata": {},
   "outputs": [],
   "source": [
    "import json\n",
    "from pathlib import Path\n",
    "\n",
    "import awkward as ak\n",
    "import numpy as np\n",
    "import hist\n",
    "import mplhep as hep\n",
    "import matplotlib.pyplot as plt\n",
    "\n",
    "from data_processing import process_data"
   ]
  },
  {
   "cell_type": "code",
   "execution_count": null,
   "metadata": {},
   "outputs": [
    {
     "name": "stdout",
     "output_type": "stream",
     "text": [
      "Data list: (413735, 6, 7)\n",
      "Data HLF: (413735, 15)\n",
      "n signal = 136530, n bkg = 277205\n",
      "Data list test: (103521, 6, 7)\n",
      "Data HLF test: (103521, 15)\n",
      "n signal = 34224, n bkg = 69297\n"
     ]
    }
   ],
   "source": [
    "SIGNAL_FILEPATHS = [\n",
    "    '/uscms/home/tsievert/nobackup/XHYbbgg/HHtobbyy/output_ttHKiller_eval_postEE/GluGluToHH_nominal_ttH_killer_preds.parquet',\n",
    "    '/uscms/home/tsievert/nobackup/XHYbbgg/HHtobbyy/output_ttHKiller_eval_preEE/GluGluToHH_nominal_ttH_killer_preds.parquet'\n",
    "]\n",
    "BKG_FILEPATHS = [\n",
    "    '/uscms/home/tsievert/nobackup/XHYbbgg/HHtobbyy/output_ttHKiller_eval_postEE/ttHToGG_nominal_ttH_killer_preds.parquet',\n",
    "    '/uscms/home/tsievert/nobackup/XHYbbgg/HHtobbyy/output_ttHKiller_eval_preEE/ttHToGG_nominal_ttH_killer_preds.parquet'\n",
    "]\n",
    "\n",
    "sig_samples_list = [ak.from_parquet(sig_filepath) for sig_filepath in SIGNAL_FILEPATHS]\n",
    "sig_sample = ak.concatenate(sig_samples_list)\n",
    "bkg_samples_list = [ak.from_parquet(bkg_filepath) for bkg_filepath in BKG_FILEPATHS]\n",
    "bkg_sample = ak.concatenate(bkg_samples_list)\n",
    "\n",
    "CURRENT_DIRPATH = str(Path().absolute())\n",
    "VERSION = 'v10'\n",
    "VARS = 'extra_vars+max'\n",
    "CURRENT_TIME = '2024-10-29_00-47-20'\n",
    "OUTPUT_DIRPATH = CURRENT_DIRPATH + f\"/model_outputs/{VERSION}/{VARS}/\" + CURRENT_TIME\n",
    "SEED = 21\n",
    "MOD_VALS = (5, 5)\n",
    "\n",
    "(\n",
    "    data_df_dict, data_test_df_dict, \n",
    "    data_list_dict, data_hlf_dict, label_dict, \n",
    "    data_list_test_dict, data_hlf_test_dict, label_test_dict, \n",
    "    high_level_fields_dict, input_hlf_vars_dict, hlf_vars_columns_dict,\n",
    "    data_aux_dict, data_test_aux_dict\n",
    ") = process_data(\n",
    "    6, 7, SIGNAL_FILEPATHS, BKG_FILEPATHS, OUTPUT_DIRPATH, seed=SEED, mod_vals=MOD_VALS, k_fold_test=True\n",
    ")"
   ]
  },
  {
   "cell_type": "code",
   "execution_count": 8,
   "metadata": {},
   "outputs": [],
   "source": [
    "\n",
    "def plot_score_from_IN_perf(weights, n_bins=50):\n",
    "    with open(\n",
    "        \"\"\"/uscms/home/tsievert/nobackup/XHYbbgg/HHtobbyy/model_outputs/v10/\n",
    "        extra_vars+max/2024-10-29_00-47-20/2024-10-29_00-47-20_IN_perf.json\"\"\", 'r'\n",
    "    ) as f:\n",
    "        IN_info = json.load(f)\n",
    "\n",
    "    flat_preds = np.concatenate([\n",
    "        np.exp(IN_info['all_preds'][i])[:, 1] for i in range(len(IN_info['all_preds']))\n",
    "    ], axis=None)\n",
    "    flat_labels = np.concatenate([\n",
    "        np.array(IN_info['all_labels'][i]) for i in range(len(IN_info['all_preds']))\n",
    "    ], axis=None)\n",
    "    sig_preds = flat_preds[flat_labels == 1]\n",
    "    bkg_preds = flat_preds[flat_labels == 0]\n",
    "\n",
    "    hist_axis = hist.axis.Regular(n_bins, 0., 1., name='var', growth=False, underflow=False, overflow=False)\n",
    "    sig_hist = hist.Hist(hist_axis, storage='weight').fill(var=sig_preds, weight=weights['sig'] if weights['sig'] is not None else np.ones_like(sig_preds))\n",
    "    bkg_hist = hist.Hist(hist_axis, storage='weight').fill(var=bkg_preds, weight=weights['bkg'] if weights['bkg'] is not None else np.ones_like(bkg_preds))\n",
    "    hep.histplot(\n",
    "        [sig_hist, bkg_hist],\n",
    "        yerr=(True if weights['sig'] is not None else False),\n",
    "        alpha=0.5, density=(False if weights['sig'] is not None else True), histtype='step',\n",
    "        label=[\"ggF HH\", \"ttH\"], linestyle=['solid', 'solid'], colors=['blue', 'red']\n",
    "    )\n",
    "\n",
    "def plot_score_from_eval(samples, weights, n_bins=50):\n",
    "    sig_preds = ak.to_numpy(samples['sig']['ttH_killer_preds'])\n",
    "    bkg_preds = ak.to_numpy(samples['bkg']['ttH_killer_preds'])\n",
    "\n",
    "    hist_axis = hist.axis.Regular(n_bins, 0., 1., name='var', growth=False, underflow=False, overflow=False)\n",
    "    sig_hist = hist.Hist(hist_axis, storage='weight').fill(var=sig_preds, weight=weights['sig'] if weights['sig'] is not None else np.ones_like(sig_preds))\n",
    "    bkg_hist = hist.Hist(hist_axis, storage='weight').fill(var=bkg_preds, weight=weights['bkg'] if weights['bkg'] is not None else np.ones_like(bkg_preds))\n",
    "    hep.histplot(\n",
    "        [sig_hist, bkg_hist],\n",
    "        yerr=(True if weights['sig'] is not None else False),\n",
    "        alpha=0.5, density=(False if weights['sig'] is not None else True), histtype='step',\n",
    "        label=[\"ggF HH\", \"ttH\"], linestyle=['dashed', 'dashed'], colors=['yellow', 'green']\n",
    "    )"
   ]
  },
  {
   "cell_type": "code",
   "execution_count": 11,
   "metadata": {},
   "outputs": [],
   "source": [
    "IN_weights = {'sig': [], 'bkg': []}\n",
    "for fold_idx in range(len(data_test_aux_dict)):\n",
    "    IN_weights['sig'].append(\n",
    "        (\n",
    "            data_test_aux_dict[f'fold_{fold_idx}'].loc[:, \"eventWeight\"].to_numpy()\n",
    "        )[label_test_dict[f'fold_{fold_idx}'] == 1]\n",
    "    )\n",
    "    IN_weights['bkg'].append(\n",
    "        (\n",
    "            data_test_aux_dict[f'fold_{fold_idx}'].loc[:, \"eventWeight\"].to_numpy()\n",
    "        )[label_test_dict[f'fold_{fold_idx}'] == 0]\n",
    "    )\n",
    "IN_weights['sig'] = np.concatenate(IN_weights['sig'])\n",
    "IN_weights['bkg'] = np.concatenate(IN_weights['bkg'])\n",
    "\n",
    "weights = {'sig': ak.to_numpy(sig_sample['eventWeight']), 'bkg': ak.to_numpy(bkg_sample['eventWeight'])}\n",
    "samples = {'sig': sig_sample, 'bkg': bkg_sample}\n"
   ]
  },
  {
   "cell_type": "code",
   "execution_count": null,
   "metadata": {},
   "outputs": [],
   "source": [
    "plt.figure(figsize=(9,7))\n",
    "\n",
    "plot_score_from_IN_perf(IN_weights)\n",
    "plot_score_from_eval(samples, weights)\n",
    "\n",
    "plt.legend(bbox_to_anchor=(1, 1))\n",
    "plt.xlabel('Threshold')\n",
    "plt.ylabel('Weighted Counts')\n",
    "plt.show()"
   ]
  },
  {
   "cell_type": "code",
   "execution_count": null,
   "metadata": {},
   "outputs": [],
   "source": [
    "density_weights = {'sig': None, 'bkg': None}\n",
    "\n",
    "plt.figure(figsize=(9,7))\n",
    "\n",
    "plot_score_from_IN_perf(density_weights)\n",
    "plot_score_from_eval(samples, density_weights)\n",
    "\n",
    "plt.legend(bbox_to_anchor=(1, 1))\n",
    "plt.xlabel('Threshold')\n",
    "plt.ylabel('Density')\n",
    "plt.show()"
   ]
  }
 ],
 "metadata": {
  "kernelspec": {
   "display_name": "Python 3",
   "language": "python",
   "name": "python3"
  },
  "language_info": {
   "codemirror_mode": {
    "name": "ipython",
    "version": 3
   },
   "file_extension": ".py",
   "mimetype": "text/x-python",
   "name": "python",
   "nbconvert_exporter": "python",
   "pygments_lexer": "ipython3",
   "version": "3.10.15"
  }
 },
 "nbformat": 4,
 "nbformat_minor": 2
}
