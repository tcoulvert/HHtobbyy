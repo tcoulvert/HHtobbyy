{
 "cells": [
  {
   "cell_type": "code",
   "execution_count": 1,
   "metadata": {},
   "outputs": [
    {
     "name": "stdout",
     "output_type": "stream",
     "text": [
      "Welcome to JupyROOT 6.18/02\n"
     ]
    },
    {
     "ename": "ModuleNotFoundError",
     "evalue": "No module named 'root_pandas'",
     "output_type": "error",
     "traceback": [
      "\u001b[0;31m---------------------------------------------------------------------------\u001b[0m",
      "\u001b[0;31mModuleNotFoundError\u001b[0m                       Traceback (most recent call last)",
      "\u001b[0;32m<ipython-input-1-c3abf3cc1dfd>\u001b[0m in \u001b[0;36m<module>\u001b[0;34m\u001b[0m\n\u001b[1;32m     13\u001b[0m \u001b[0;32mfrom\u001b[0m \u001b[0msklearn\u001b[0m\u001b[0;34m.\u001b[0m\u001b[0mmodel_selection\u001b[0m \u001b[0;32mimport\u001b[0m \u001b[0mStratifiedKFold\u001b[0m\u001b[0;34m\u001b[0m\u001b[0;34m\u001b[0m\u001b[0m\n\u001b[1;32m     14\u001b[0m \u001b[0;34m\u001b[0m\u001b[0m\n\u001b[0;32m---> 15\u001b[0;31m \u001b[0;32mfrom\u001b[0m \u001b[0mroot_pandas\u001b[0m \u001b[0;32mimport\u001b[0m \u001b[0mread_root\u001b[0m\u001b[0;34m\u001b[0m\u001b[0;34m\u001b[0m\u001b[0m\n\u001b[0m\u001b[1;32m     16\u001b[0m \u001b[0;31m#import keras\u001b[0m\u001b[0;34m\u001b[0m\u001b[0;34m\u001b[0m\u001b[0;34m\u001b[0m\u001b[0m\n\u001b[1;32m     17\u001b[0m \u001b[0;31m#from keras.models import Sequential\u001b[0m\u001b[0;34m\u001b[0m\u001b[0;34m\u001b[0m\u001b[0;34m\u001b[0m\u001b[0m\n",
      "\u001b[0;32m/usr/lib64/python3.6/site-packages/ROOT.py\u001b[0m in \u001b[0;36m_importhook\u001b[0;34m(name, *args, **kwds)\u001b[0m\n\u001b[1;32m    529\u001b[0m       \u001b[0;32mexcept\u001b[0m \u001b[0mException\u001b[0m\u001b[0;34m:\u001b[0m\u001b[0;34m\u001b[0m\u001b[0;34m\u001b[0m\u001b[0m\n\u001b[1;32m    530\u001b[0m          \u001b[0;32mpass\u001b[0m\u001b[0;34m\u001b[0m\u001b[0;34m\u001b[0m\u001b[0m\n\u001b[0;32m--> 531\u001b[0;31m    \u001b[0;32mreturn\u001b[0m \u001b[0m_orig_ihook\u001b[0m\u001b[0;34m(\u001b[0m \u001b[0mname\u001b[0m\u001b[0;34m,\u001b[0m \u001b[0;34m*\u001b[0m\u001b[0margs\u001b[0m\u001b[0;34m,\u001b[0m \u001b[0;34m**\u001b[0m\u001b[0mkwds\u001b[0m \u001b[0;34m)\u001b[0m\u001b[0;34m\u001b[0m\u001b[0;34m\u001b[0m\u001b[0m\n\u001b[0m\u001b[1;32m    532\u001b[0m \u001b[0;34m\u001b[0m\u001b[0m\n\u001b[1;32m    533\u001b[0m \u001b[0m__builtin__\u001b[0m\u001b[0;34m.\u001b[0m\u001b[0m__import__\u001b[0m \u001b[0;34m=\u001b[0m \u001b[0m_importhook\u001b[0m\u001b[0;34m\u001b[0m\u001b[0;34m\u001b[0m\u001b[0m\n",
      "\u001b[0;31mModuleNotFoundError\u001b[0m: No module named 'root_pandas'"
     ]
    }
   ],
   "source": [
    "import ROOT as rt\n",
    "from root_numpy import root2array, tree2array\n",
    "\n",
    "import h5py\n",
    "import numpy as np\n",
    "import numpy.lib.recfunctions as nlr\n",
    "import pandas as pd\n",
    "import os, sys\n",
    "from matplotlib import pyplot as plt\n",
    "import math\n",
    "import json\n",
    "from sklearn.metrics import roc_curve, auc\n",
    "from sklearn.model_selection import StratifiedKFold\n",
    "\n",
    "from root_pandas import read_root\n",
    "#import keras\n",
    "#from keras.models import Sequential\n",
    "#from keras import layers\n",
    "\n",
    "from skopt import gp_minimize\n",
    "from skopt.space import Real, Integer\n",
    "from skopt.utils import use_named_args\n",
    "\n",
    "from prettytable import PrettyTable\n",
    "\n",
    "import gpustat\n",
    "gpustat.print_gpustat()\n",
    "os.environ['CUDA_VISIBLE_DEVICES']='3'\n",
    "os.environ[\"HDF5_USE_FILE_LOCKING\"] = \"FALSE\""
   ]
  },
  {
   "cell_type": "code",
   "execution_count": 2,
   "metadata": {},
   "outputs": [
    {
     "name": "stdout",
     "output_type": "stream",
     "text": [
      "/bigdata/shared/HHbbgg/flashggTreeBSMWeights/bkg/output_ttHToGG_M125_13TeV_powheg_pythia8.root\n"
     ]
    }
   ],
   "source": [
    "year = '2017'\n",
    "\n",
    "SIGNAL_DIR = '/bigdata/shared/HHbbgg/flashggTreeBSMWeights/signal/'\n",
    "SIGNAL_NODES = [2,3,4,7,9,12]\n",
    "SIGNAL_FILE = SIGNAL_DIR+'output_GluGluToHHTo2B2G_allnode_13TeV-madgraph_correctedcfg.root'\n",
    "\n",
    "# BKG_FILE = '/bigdata/shared/HHbbgg/flashggTree'+year+'/output_ttHToGG_M125_13TeV_powheg_pythia8.root'\n",
    "# if year == '2016':\n",
    "#     BKG_FILE = '/bigdata/shared/HHbbgg/flashggTree2016/output_ttHToGG_M125_13TeV_powheg_pythia8_v2.root'\n",
    "BKG_DIR = '/bigdata/shared/HHbbgg/flashggTreeBSMWeights/bkg/'\n",
    "#BKG_NAMES = [\n",
    "#     'output_GJet_Pt-20to40_DoubleEMEnriched_MGG-80toInf_TuneCP5_13TeV_Pythia8.root',\n",
    "#             'output_GJet_Pt-40toInf_DoubleEMEnriched_MGG-80toInf_TuneCP5_13TeV_Pythia8.root',\n",
    "#             'output_GluGluHToGG_M-125_13TeV_powheg_pythia8.root']\n",
    "BKG_NAMES = 'output_ttHToGG_M125_13TeV_powheg_pythia8.root'\n",
    "#BKG_FILES = [BKG_DIR+x for x in BKG_NAMES]\n",
    "BKG_FILE = BKG_DIR+BKG_NAMES\n",
    "print(BKG_FILE)"
   ]
  },
  {
   "cell_type": "code",
   "execution_count": 3,
   "metadata": {},
   "outputs": [],
   "source": [
    "NORM_CONSTANT = {\"benchmark_10_normalization\": 8.26328, \n",
    "                 \"benchmark_7_normalization\": 8.02758, \n",
    "                 \"benchmark_2_normalization\": 8.20958, \n",
    "                 \"benchmark_9_normalization\": 8.6845, \n",
    "                 \"benchmark_6_normalization\": 8.79, \n",
    "                 \"benchmark_4_normalization\": 7.52522, \n",
    "                 \"benchmark_3_normalization\": 8.45029, \n",
    "                 \"benchmark_1_normalization\": 6.30071, \n",
    "                 \"benchmark_8_normalization\": 7.47232, \n",
    "                 \"benchmark_5_normalization\": 8.24452, \n",
    "                 \"benchmark_11_normalization\": 8.70954, \n",
    "                 \"benchmark_0_normalization\": 7.99948}"
   ]
  },
  {
   "cell_type": "markdown",
   "metadata": {},
   "source": [
    "### Add weights and normalize BSM nodes"
   ]
  },
  {
   "cell_type": "code",
   "execution_count": 4,
   "metadata": {},
   "outputs": [
    {
     "name": "stdout",
     "output_type": "stream",
     "text": [
      "(501241,)\n",
      "(106302,)\n"
     ]
    }
   ],
   "source": [
    "def convert(tree, target=0):\n",
    "\n",
    "    branches = ['event', 'weight', \n",
    "                'ttH_sumET','ttH_MET','ttH_phiMET','ttH_dPhi1','ttH_dPhi2','ttH_PhoJetMinDr',\n",
    "                'ttH_njets','ttH_Xtt0','ttH_Xtt1','ttH_pte1','ttH_pte2',\n",
    "                'ttH_ptmu1','ttH_ptmu2','ttH_ptdipho',\n",
    "                'ttH_etae1','ttH_etae2','ttH_etamu1','ttH_etamu2','ttH_etadipho',\n",
    "                'ttH_phie1','ttH_phie2','ttH_phimu1','ttH_phimu2','ttH_phidipho',\n",
    "                'ttH_fabs_CosThetaStar_CS','ttH_fabs_CosTheta_bb',\n",
    "                'ttH_ptjet1','ttH_ptjet2','ttH_etajet1','ttH_etajet2',\n",
    "                'ttH_phijet1','ttH_phijet2',\n",
    "                                     ]\n",
    "    \n",
    "    if target==1:\n",
    "        for i in range(0,12):\n",
    "            branches.append('benchmark_reweight_{}'.format(i))\n",
    "        branches.append('benchmark_reweight_SM')\n",
    "    \n",
    "    feature = tree2array(tree,\n",
    "                        branches=branches)\n",
    "    \n",
    "    if target == 0:\n",
    "        label = np.zeros(shape = feature.shape, dtype=[('label','f4')])\n",
    "    else:\n",
    "        label = np.ones(shape = feature.shape, dtype=[('label','f4')])\n",
    "    #data = nlr.merge_arrays([label,feature], flatten=True)\n",
    "    #auxInfo = tree2array(tree,\n",
    "    #                     branches = ['mass_jj','mass_gg'])\n",
    "    return feature #, auxInfo\n",
    "\n",
    "sigfile = rt.TFile.Open(SIGNAL_FILE)\n",
    "bkgfile = rt.TFile.Open(BKG_FILE)\n",
    "#bkgfile2 = rt.TFile.Open(BKG_FILE2)\n",
    "\n",
    "\n",
    "# Add 12 separated trees\n",
    "for i in range(12):\n",
    "    \n",
    "    sigtree_ = sigfile.Get(\"tagsDumper/trees/GluGluToHHTo2B2G_nodesPlusSM_13TeV_madgraph_13TeV_DoubleHTag_{}\".format(i))\n",
    "    bkgtree_ = bkgfile.Get(\"tagsDumper/trees/ttHToGG_M125_13TeV_powheg_pythia8_13TeV_DoubleHTag_{}\".format(i))\n",
    "    signp_ = convert(sigtree_, 1)\n",
    "    bkgnp_ = convert(bkgtree_, 0)\n",
    "    if i==0:\n",
    "        signp = signp_\n",
    "        bkgnp = bkgnp_\n",
    "    else:\n",
    "        signp = np.concatenate((signp, signp_))\n",
    "        bkgnp = np.concatenate((bkgnp, bkgnp_))\n",
    "\n",
    "print(signp.shape)\n",
    "print(bkgnp.shape)\n",
    "\n",
    "#bkgtree2 = bkgfile2.Get(\"tagsDumper/trees/GluGluHToGG_M_125_13TeV_powheg_pythia8_13TeV_DoubleHTag_0\")\n",
    "\n",
    "# signp, sig_auxnp = convert(sigtree, 1)\n",
    "# bkgnp, bkg_auxnp = convert(bkgtree, 0)\n",
    "# bkgnp2, bkg_auxnp2 = convert(bkgtree2, 0)\n",
    "\n",
    "\n",
    "#bkgnp2 = convert(bkgtree2, 0)\n",
    "\n",
    "sig_frame = pd.DataFrame.from_records(signp)\n",
    "#sig_aux_frame = pd.DataFrame.from_records(sig_auxnp)\n",
    "bkg_frame = pd.DataFrame.from_records(bkgnp)\n",
    "#bkg_aux_frame = pd.DataFrame.from_records(bkg_auxnp)\n",
    "#bkg_frame2 = pd.DataFrame.from_records(bkgnp2)\n",
    "#bkg_aux_frame2 = pd.DataFrame.from_records(bkg_auxnp2)\n",
    "\n",
    "# Reweight all the BSM nodes\n",
    "sig_frame['sumallnode_reweight'] = np.sum(np.asarray([sig_frame['benchmark_reweight_{}'.format(i)]/NORM_CONSTANT['benchmark_{}_normalization'.format(i)] for i in range(12)]), axis=0)\n",
    "sig_frame['sumallnode_reweight'] += sig_frame['benchmark_reweight_SM']\n",
    "\n",
    "# Select only odd event to train\n",
    "\n",
    "odd_sig_frame = sig_frame[sig_frame['event']%2==1]\n",
    "odd_bkg_frame = bkg_frame[bkg_frame['event']%2==1]\n",
    "\n"
   ]
  },
  {
   "cell_type": "code",
   "execution_count": 10,
   "metadata": {},
   "outputs": [
    {
     "data": {
      "text/plain": [
       "<matplotlib.text.Text at 0x7fa77a20afd0>"
      ]
     },
     "execution_count": 10,
     "metadata": {},
     "output_type": "execute_result"
    },
    {
     "data": {
      "image/png": "[encoded data removed]",
      "text/plain": [
       "<matplotlib.figure.Figure at 0x7fa77a1a8090>"
      ]
     },
     "metadata": {},
     "output_type": "display_data"
    }
   ],
   "source": [
    "plt.figure(figsize=(10,10))\n",
    "plt.hist(odd_sig_frame['ttH_ptjet1'], \n",
    "         weights=odd_sig_frame['benchmark_reweight_SM'], \n",
    "         bins=30, range=(0,800), \n",
    "         normed=True, alpha=0.3, label='SM')\n",
    "for i in range(12):\n",
    "    plt.hist(odd_sig_frame['ttH_ptjet1'], \n",
    "         weights=odd_sig_frame['benchmark_reweight_{}'.format(i)], \n",
    "         bins=30, range=(0,800), \n",
    "         normed=True, histtype='step', label='Node {}'.format(i+1))\n",
    "plt.legend(loc='best', fontsize=15)\n",
    "plt.xlabel('Leading b-jet pT', fontsize=15)"
   ]
  },
  {
   "cell_type": "markdown",
   "metadata": {},
   "source": [
    "### Preprocessing"
   ]
  },
  {
   "cell_type": "code",
   "execution_count": null,
   "metadata": {},
   "outputs": [],
   "source": []
  },
  {
   "cell_type": "code",
   "execution_count": 16,
   "metadata": {},
   "outputs": [
    {
     "name": "stdout",
     "output_type": "stream",
     "text": [
      "Mean and std calculated.\n",
      "Mean and std calculated for particle list.\n",
      "Data list: (106794, 8, 7)\n",
      "Data HLF: (106794, 9)\n",
      "Label: (106794,)\n",
      "Data weight: (106794,)\n",
      "Data nodeweight: (106794, 13)\n",
      "Data sum allnode weight: [ 2.91348977  2.62703358  2.95508106 ...,  1.          1.          1.        ]\n",
      "StratifiedKFold(n_splits=5, random_state=None, shuffle=True)\n"
     ]
    }
   ],
   "source": [
    "# Because of zero-padding, standardization needs special treatment\n",
    "# Masked out zero\n",
    "\n",
    "# Only normalize physical quantities\n",
    "normalizable = ['ttH_sumET','ttH_MET','ttH_phiMET','ttH_dPhi1','ttH_dPhi2','ttH_PhoJetMinDr',\n",
    "                'ttH_njets','ttH_Xtt0','ttH_Xtt1','ttH_pte1','ttH_pte2',\n",
    "                'ttH_ptmu1','ttH_ptmu2','ttH_ptdipho',\n",
    "                'ttH_etae1','ttH_etae2','ttH_etamu1','ttH_etamu2','ttH_etadipho',\n",
    "                'ttH_phie1','ttH_phie2','ttH_phimu1','ttH_phimu2','ttH_phidipho',\n",
    "                'ttH_fabs_CosThetaStar_CS','ttH_fabs_CosTheta_bb',\n",
    "                'ttH_ptjet1','ttH_ptjet2','ttH_etajet1','ttH_etajet2',\n",
    "                'ttH_phijet1','ttH_phijet2']\n",
    "\n",
    "zero_entries = odd_bkg_frame[normalizable] == 0 \n",
    "masked_x_sample = np.ma.array(odd_bkg_frame[normalizable], mask=zero_entries)\n",
    "x_mean = masked_x_sample.mean(axis=0)\n",
    "x_std = masked_x_sample.std(axis=0)\n",
    "print(\"Mean and std calculated.\")\n",
    "\n",
    "# Standardize background\n",
    "normed_bkg = (masked_x_sample - x_mean)/x_std\n",
    "\n",
    "# Standardize background2 (ggH)\n",
    "#zero_entries = bkg_frame2 == 0\n",
    "#masked_x_sample = np.ma.array(bkg_frame2, mask=zero_entries)\n",
    "#normed_bkg2 = (masked_x_sample - x_mean)/x_std\n",
    "\n",
    "# Standardize signal\n",
    "zero_entries = odd_sig_frame[normalizable] == 0 \n",
    "masked_x_sample = np.ma.array(odd_sig_frame[normalizable], mask=zero_entries)\n",
    "normed_sig = (masked_x_sample - x_mean)/x_std\n",
    "\n",
    "normed_bkg_frame = pd.DataFrame(normed_bkg.filled(0), columns=list(odd_bkg_frame[normalizable]))\n",
    "#normed_bkg_frame2 = pd.DataFrame(normed_bkg2.filled(0), columns=list(bkg_frame2))\n",
    "\n",
    "normed_sig_frame = pd.DataFrame(normed_sig.filled(0), columns=list(odd_sig_frame[normalizable]))\n",
    "normed_sig_frame.head()\n",
    "\n",
    "def to_p_list(data_frame):\n",
    "    # Inputs: Pandas data frame\n",
    "    # Outputs: Numpy array of dimension (Event, Particle, Attributes)\n",
    "    \n",
    "    particle_list_sig = np.zeros(shape=(len(data_frame),8,7))\n",
    "    sorted_particle_list = np.zeros(shape=(len(data_frame),8,7))\n",
    "    #6: max particles: e1, e2, mu1, mu2, dipho, MET.\n",
    "    #7: pt, eta, phi, isEle, isMuon, isDipho, isMET\n",
    "    \n",
    "    def isclose(a, b, rel_tol=1e-09, abs_tol=0.0):\n",
    "        return abs(a-b) <= max(rel_tol * max(abs(a), abs(b)), abs_tol)\n",
    "\n",
    "   \n",
    "    for i in range(len(data_frame)): # loop through the list of events\n",
    "        pte1 = data_frame['ttH_pte1'].iloc[i]\n",
    "        pte2 = data_frame['ttH_pte2'].iloc[i]\n",
    "        ptmu1 = data_frame['ttH_ptmu1'].iloc[i]\n",
    "        ptmu2 = data_frame['ttH_ptmu2'].iloc[i]\n",
    "        ptdipho = data_frame['ttH_ptdipho'].iloc[i]\n",
    "        ptjet1 = data_frame['ttH_ptjet1'].iloc[i]\n",
    "        ptjet2 = data_frame['ttH_ptjet2'].iloc[i]\n",
    "        ptMET = data_frame['ttH_MET'].iloc[i]\n",
    "\n",
    "        etae1 = data_frame['ttH_etae1'].iloc[i]\n",
    "        etae2 = data_frame['ttH_etae2'].iloc[i]\n",
    "        etamu1 = data_frame['ttH_etamu1'].iloc[i]\n",
    "        etamu2 = data_frame['ttH_etamu2'].iloc[i]\n",
    "        etadipho = data_frame['ttH_etadipho'].iloc[i]\n",
    "        etajet1 = data_frame['ttH_etajet1'].iloc[i]\n",
    "        etajet2 = data_frame['ttH_etajet2'].iloc[i]\n",
    "        etaMET = 0\n",
    "\n",
    "        phie1 = data_frame['ttH_phie1'].iloc[i]\n",
    "        phie2 = data_frame['ttH_phie2'].iloc[i]\n",
    "        phimu1 = data_frame['ttH_phimu1'].iloc[i]\n",
    "        phimu2 = data_frame['ttH_phimu2'].iloc[i]\n",
    "        phidipho = data_frame['ttH_phidipho'].iloc[i]\n",
    "        phijet1 = data_frame['ttH_phijet1'].iloc[i]\n",
    "        phijet2 = data_frame['ttH_phijet2'].iloc[i]\n",
    "        phiMET = data_frame['ttH_phiMET'].iloc[i]\n",
    "        \n",
    "        \n",
    "\n",
    "        # list through list of particles: e1, e2, mu1, mu2, dipho, MET\n",
    "        # 0: leading ele\n",
    "        particle_list_sig[i,0, 0] = pte1\n",
    "        particle_list_sig[i,0, 1] = etae1\n",
    "        particle_list_sig[i,0, 2] = phie1\n",
    "        particle_list_sig[i,0, 3] = 1 if not isclose(pte1,0) else 0 # isEle\n",
    "        particle_list_sig[i,0, 4] = 0 # isMuon\n",
    "        particle_list_sig[i,0, 5] = 0 # isDiPho\n",
    "        particle_list_sig[i,0, 6] = 0 # isMET\n",
    "\n",
    "        # 1: subleading ele\n",
    "        particle_list_sig[i,1, 0] = pte2\n",
    "        particle_list_sig[i,1, 1] = etae2\n",
    "        particle_list_sig[i,1, 2] = phie2\n",
    "        particle_list_sig[i,1, 3] = 1 if not isclose(pte2,0) else 0 # isEle\n",
    "        particle_list_sig[i,1, 4] = 0 # isMuon\n",
    "        particle_list_sig[i,1, 5] = 0 # isDiPho\n",
    "        particle_list_sig[i,1, 6] = 0 # isMET\n",
    "\n",
    "        # 2: leading muon\n",
    "        particle_list_sig[i,2, 0] = ptmu1\n",
    "        particle_list_sig[i,2, 1] = etamu1\n",
    "        particle_list_sig[i,2, 2] = phimu1\n",
    "        particle_list_sig[i,2, 3] = 0 # isEle\n",
    "        particle_list_sig[i,2, 4] = 1 if not isclose(ptmu1,0) else 0 # isMuon\n",
    "        particle_list_sig[i,2, 5] = 0 # isDiPho\n",
    "        particle_list_sig[i,2, 6] = 0 # isMET\n",
    "\n",
    "        # 3: subleading muon\n",
    "        particle_list_sig[i,3, 0] = ptmu2\n",
    "        particle_list_sig[i,3, 1] = etamu2\n",
    "        particle_list_sig[i,3, 2] = phimu2\n",
    "        particle_list_sig[i,3, 3] = 0 #isEle\n",
    "        particle_list_sig[i,3, 4] = 1 if not isclose(ptmu2,0) else 0 # isMuon\n",
    "        particle_list_sig[i,3, 5] = 0 # isDiPho\n",
    "        particle_list_sig[i,3, 6] = 0 # isMET\n",
    "\n",
    "        # 4: dipho\n",
    "        particle_list_sig[i,4, 0] = ptdipho\n",
    "        particle_list_sig[i,4, 1] = etadipho\n",
    "        particle_list_sig[i,4, 2] = phidipho\n",
    "        particle_list_sig[i,4, 3] = 0 # isEle\n",
    "        particle_list_sig[i,4, 4] = 0 # isMuon\n",
    "        particle_list_sig[i,4, 5] = 1 if not isclose(ptdipho,0) else 0 # isDiPho\n",
    "        particle_list_sig[i,4, 6] = 0 # isMET\n",
    "\n",
    "        # 5: MET\n",
    "        particle_list_sig[i,5, 0] = ptMET\n",
    "        particle_list_sig[i,5, 1] = etaMET\n",
    "        particle_list_sig[i,5, 2] = phiMET\n",
    "        particle_list_sig[i,5, 3] = 0 #isEle\n",
    "        particle_list_sig[i,5, 4] = 0 # isMuon\n",
    "        particle_list_sig[i,5, 5] = 0 # isDiPho\n",
    "        particle_list_sig[i,5, 6] = 1 if not isclose(ptMET,0) else 0 # isMET\n",
    "        \n",
    "        particle_list_sig[i,6, 0] = ptjet1\n",
    "        particle_list_sig[i,6, 1] = etajet1\n",
    "        particle_list_sig[i,6, 2] = phijet1\n",
    "        particle_list_sig[i,6, 3] = 0 #isEle\n",
    "        particle_list_sig[i,6, 4] = 0 # isMuon\n",
    "        particle_list_sig[i,6, 5] = 0 # isDiPho\n",
    "        particle_list_sig[i,6, 6] = 0 # all zero means jet\n",
    "        \n",
    "        particle_list_sig[i,7, 0] = ptjet2\n",
    "        particle_list_sig[i,7, 1] = etajet2\n",
    "        particle_list_sig[i,7, 2] = phijet2\n",
    "        particle_list_sig[i,7, 3] = 0 #isEle\n",
    "        particle_list_sig[i,7, 4] = 0 # isMuon\n",
    "        particle_list_sig[i,7, 5] = 0 # isDiPho\n",
    "        particle_list_sig[i,7, 6] = 0 # all zero means jet\n",
    "    \n",
    "        # Sort by descending pT. \n",
    "        # This was implemented when standardization was done before sorting. Thus zero entry needs to be excluded\n",
    "        # Redesigned the code with standardization done after sorting. Same code still works.\n",
    "        nonzero_indices = np.nonzero(particle_list_sig[i,:,0])[0]\n",
    "        sorted_indices = particle_list_sig[i,nonzero_indices,0].argsort()[::-1] # sort by first column, which is the pT\n",
    "        global_sorted_indices = nonzero_indices[sorted_indices]\n",
    "        sorted_particle_list[i,:len(nonzero_indices),:] = particle_list_sig[i,global_sorted_indices,:]\n",
    "        \n",
    "    return sorted_particle_list\n",
    "\n",
    "sig_list = to_p_list(odd_sig_frame[normalizable])\n",
    "bkg_list = to_p_list(odd_bkg_frame[normalizable])\n",
    "#bkg_list2 = to_p_list(bkg_frame2)\n",
    "\n",
    "# Standardize the particle list\n",
    "x_sample = bkg_list[:,:,:3] # don't standardize boolean flags\n",
    "# Flatten out\n",
    "x_flat = x_sample.reshape((x_sample.shape[0]*x_sample.shape[1], x_sample.shape[2]))\n",
    "# Masked out zero\n",
    "zero_entries = x_flat == 0 \n",
    "masked_x_sample = np.ma.array(x_flat, mask=zero_entries)\n",
    "x_list_mean = masked_x_sample.mean(axis=0)\n",
    "x_list_std = masked_x_sample.std(axis=0)\n",
    "print(\"Mean and std calculated for particle list.\")\n",
    "del x_sample, x_flat, zero_entries, masked_x_sample # release the memory\n",
    "\n",
    "def standardize_p_list(inputs):\n",
    "    global x_list_mean, x_list_std\n",
    "    to_norm = inputs[:,:,:3]\n",
    "    zero_entries = to_norm == 0\n",
    "    masked_to_norm = np.ma.array(to_norm, mask=zero_entries)\n",
    "    normed_x = (masked_to_norm - x_list_mean)/x_list_std\n",
    "    return np.concatenate((normed_x.filled(0), inputs[:,:,3:]), axis=2)\n",
    "    \n",
    "normed_sig_list = standardize_p_list(sig_list)\n",
    "normed_bkg_list = standardize_p_list(bkg_list)\n",
    "\n",
    "background_weight = odd_bkg_frame['weight'].values\n",
    "signal_weight = odd_sig_frame['weight'].values\n",
    "\n",
    "signal_allnode_weight = odd_sig_frame['sumallnode_reweight'].values\n",
    "background_allnode_weight = np.ones(shape=(len(background_weight),))\n",
    "\n",
    "signal_nodeweight = odd_sig_frame[['benchmark_reweight_0',\n",
    "                                   'benchmark_reweight_1',\n",
    "                                   'benchmark_reweight_2',\n",
    "                                   'benchmark_reweight_3',\n",
    "                                   'benchmark_reweight_4',\n",
    "                                   'benchmark_reweight_5',\n",
    "                                   'benchmark_reweight_6',\n",
    "                                   'benchmark_reweight_7',\n",
    "                                   'benchmark_reweight_8',\n",
    "                                   'benchmark_reweight_9',\n",
    "                                   'benchmark_reweight_10',\n",
    "                                   'benchmark_reweight_11',\n",
    "                                   'benchmark_reweight_SM',\n",
    "                                  ]].values\n",
    "\n",
    "background_nodeweight = np.ones(shape=(len(background_weight), signal_nodeweight.shape[1]))\n",
    "\n",
    "#normed_bkg_list2 = standardize_p_list(bkg_list2)\n",
    "\n",
    "normed_sig_hlf = normed_sig_frame[['ttH_sumET','ttH_dPhi1','ttH_dPhi2','ttH_PhoJetMinDr','ttH_njets','ttH_Xtt0',\n",
    "                                   'ttH_Xtt1','ttH_fabs_CosThetaStar_CS','ttH_fabs_CosTheta_bb']].values\n",
    "normed_bkg_hlf = normed_bkg_frame[['ttH_sumET','ttH_dPhi1','ttH_dPhi2','ttH_PhoJetMinDr','ttH_njets','ttH_Xtt0',\n",
    "                                   'ttH_Xtt1','ttH_fabs_CosThetaStar_CS','ttH_fabs_CosTheta_bb']].values\n",
    "#normed_bkg_hlf2 = normed_bkg_frame2[['ttH_sumET','ttH_dPhi1','ttH_dPhi2','ttH_PhoJetMinDr','ttH_njets','ttH_Xtt0',\n",
    "#                                   'ttH_Xtt1','ttH_fabs_CosThetaStar_CS','ttH_fabs_CosTheta_bb']].values\n",
    "    \n",
    "\n",
    "def downsample(signal, background, randix=None):\n",
    "    '''\n",
    "    Take 2 datasets (multidimensional np array), \n",
    "    downsample the big one to the small one. \n",
    "    Before downsampling, rearrange the big one according to randix. \n",
    "    If randix is not given, shuffle the big sample.\n",
    "    \n",
    "    Return 2 samples in the same order and the randix.\n",
    "    '''\n",
    "    \n",
    "    if len(signal)<len(background):\n",
    "        target_sample = signal\n",
    "        big_sample = background\n",
    "        signal_is_smaller = 1\n",
    "    else:\n",
    "        target_sample = background\n",
    "        big_sample = signal\n",
    "        signal_is_smaller = 0\n",
    "    \n",
    "    if not isinstance(randix, np.ndarray):\n",
    "        randix = np.arange(len(big_sample))\n",
    "        np.random.shuffle(randix)\n",
    "    \n",
    "    big_sample = big_sample[randix]\n",
    "    big_sample = big_sample[:len(target_sample)]\n",
    "    \n",
    "    if signal_is_smaller:\n",
    "        return target_sample, big_sample, randix\n",
    "    \n",
    "    return big_sample, target_sample, randix\n",
    "    \n",
    "signal_list, background_list, randix = downsample(normed_sig_list, normed_bkg_list)\n",
    "signal_hlf, background_hlf, randix = downsample(normed_sig_hlf, normed_bkg_hlf, randix)\n",
    "signal_weight, background_weight, randix = downsample(signal_weight, background_weight, randix)\n",
    "signal_nodeweight, background_nodeweight, randix = downsample(signal_nodeweight, background_nodeweight, randix)\n",
    "signal_allnode_weight, background_allnode_weight, randix = downsample(signal_allnode_weight, background_allnode_weight, randix)\n",
    "\n",
    "sig_label = np.ones(len(signal_list))\n",
    "bkg_label = np.zeros(len(background_list))\n",
    "\n",
    "data_list = np.concatenate((signal_list,background_list))\n",
    "data_hlf = np.concatenate((signal_hlf,background_hlf))\n",
    "label = np.concatenate((sig_label,bkg_label))\n",
    "data_weight = np.concatenate((signal_weight, background_weight))\n",
    "data_nodeweight = np.concatenate((signal_nodeweight, background_nodeweight))\n",
    "data_allnode_weight = np.concatenate((signal_allnode_weight, background_allnode_weight))\n",
    "\n",
    "\n",
    "print(\"Data list: {}\".format(data_list.shape))\n",
    "print(\"Data HLF: {}\".format(data_hlf.shape))\n",
    "print(\"Label: {}\".format(label.shape))\n",
    "print(\"Data weight: {}\".format(data_weight.shape))\n",
    "print(\"Data nodeweight: {}\".format(data_nodeweight.shape))\n",
    "print(\"Data sum allnode weight: {}\".format(data_allnode_weight))\n",
    "skf = StratifiedKFold(n_splits=5, shuffle=True)\n",
    "skf.get_n_splits(data_hlf, label)\n",
    "print(skf)\n",
    "\n",
    "\n"
   ]
  },
  {
   "cell_type": "code",
   "execution_count": 18,
   "metadata": {},
   "outputs": [
    {
     "name": "stdout",
     "output_type": "stream",
     "text": [
      "(0, 'ttH_sumET')\n",
      "(1, 'ttH_MET')\n",
      "(2, 'ttH_phiMET')\n",
      "(3, 'ttH_dPhi1')\n",
      "(4, 'ttH_dPhi2')\n",
      "(5, 'ttH_PhoJetMinDr')\n",
      "(6, 'ttH_njets')\n",
      "(7, 'ttH_Xtt0')\n",
      "(8, 'ttH_Xtt1')\n",
      "(9, 'ttH_pte1')\n",
      "(10, 'ttH_pte2')\n",
      "(11, 'ttH_ptmu1')\n",
      "(12, 'ttH_ptmu2')\n",
      "(13, 'ttH_ptdipho')\n",
      "(14, 'ttH_etae1')\n",
      "(15, 'ttH_etae2')\n",
      "(16, 'ttH_etamu1')\n",
      "(17, 'ttH_etamu2')\n",
      "(18, 'ttH_etadipho')\n",
      "(19, 'ttH_phie1')\n",
      "(20, 'ttH_phie2')\n",
      "(21, 'ttH_phimu1')\n",
      "(22, 'ttH_phimu2')\n",
      "(23, 'ttH_phidipho')\n",
      "(24, 'ttH_fabs_CosThetaStar_CS')\n",
      "(25, 'ttH_fabs_CosTheta_bb')\n",
      "(26, 'ttH_ptjet1')\n",
      "(27, 'ttH_ptjet2')\n",
      "(28, 'ttH_etajet1')\n",
      "(29, 'ttH_etajet2')\n",
      "(30, 'ttH_phijet1')\n",
      "(31, 'ttH_phijet2')\n"
     ]
    }
   ],
   "source": [
    "### Index of HLF\n",
    "\n",
    "for i,hlf in enumerate(normalizable):\n",
    "    print(i, hlf)"
   ]
  },
  {
   "cell_type": "code",
   "execution_count": 7,
   "metadata": {},
   "outputs": [
    {
     "name": "stdout",
     "output_type": "stream",
     "text": [
      "Finish writing to data2017_allnode.h5\n"
     ]
    }
   ],
   "source": [
    "with h5py.File(\"data2017_allnode.h5\",\"w\") as output:\n",
    "    output.create_dataset(\"list\", data=data_list)\n",
    "    output.create_dataset(\"hlf\", data=data_hlf)\n",
    "    output.create_dataset(\"weight\", data=data_weight)\n",
    "    output.create_dataset(\"nodeweight\",data=data_nodeweight)\n",
    "    output.create_dataset(\"sumallnode_weight\",data=data_allnode_weight)\n",
    "    output.create_dataset(\"label\",data=label)\n",
    "    print(\"Finish writing to data2017_allnode.h5\")\n"
   ]
  },
  {
   "cell_type": "code",
   "execution_count": 8,
   "metadata": {},
   "outputs": [],
   "source": [
    "x_mean.dump(\"mean\"+year+\".npy\")\n",
    "x_std.dump(\"std\"+year+\".npy\")"
   ]
  },
  {
   "cell_type": "code",
   "execution_count": 9,
   "metadata": {},
   "outputs": [
    {
     "name": "stdout",
     "output_type": "stream",
     "text": [
      "[  3.22491144e+02,   7.22919780e+01,   1.49387571e-01,   4.94052483e-03,\n",
      "   5.10246425e-04,   1.38947662e+00,   5.31453078e+00,   7.45455854e+00,\n",
      "   1.35956692e+02,   7.06566234e+01,   3.71319449e+01,   6.74400372e+01,\n",
      "   3.78045958e+01,   1.73739779e+02,   2.44105199e-02,   8.74739133e-02,\n",
      "  -1.06521292e-02,  -8.08607645e-02,  -5.39241839e-03,  -3.57037140e-02,\n",
      "   1.59510158e-01,   2.73751540e-02,   1.89251401e-02,  -4.07854484e-03,\n",
      "   4.75087259e-01,   4.65906361e-01,   1.23640841e+02,   5.92089022e+01,\n",
      "  -8.63826805e-03,  -4.54561747e-03,  -2.04075881e-02,   5.20315820e-03]\n",
      "[  2.23688125e+02,   6.14480046e+01,   1.89750669e+00,   1.84765326e+00,\n",
      "   1.81706814e+00,   6.16140431e-01,   1.57790173e+00,   1.21559976e+01,\n",
      "   3.18350560e+02,   5.51059043e+01,   2.27778847e+01,   5.34930606e+01,\n",
      "   2.33020848e+01,   1.13925303e+02,   1.07162645e+00,   1.11756573e+00,\n",
      "   1.06602334e+00,   1.05170943e+00,   1.03730169e+00,   1.79671005e+00,\n",
      "   1.76463679e+00,   1.81416114e+00,   1.72905029e+00,   1.81772461e+00,\n",
      "   2.79300773e-01,   2.82007646e-01,   6.50499362e+01,   3.08319388e+01,\n",
      "   9.72514714e-01,   1.09188163e+00,   1.80664926e+00,   1.80460847e+00]\n"
     ]
    }
   ],
   "source": [
    "x_mean = np.load('mean'+year+'.npy')\n",
    "x_std = np.load('std'+year+'.npy')\n",
    "print(np.array2string(x_mean, separator=', '))\n",
    "print(np.array2string(x_std, separator=', '))"
   ]
  },
  {
   "cell_type": "markdown",
   "metadata": {},
   "source": [
    "### Mean and std of particle list's pt, eta, phi"
   ]
  },
  {
   "cell_type": "code",
   "execution_count": 10,
   "metadata": {},
   "outputs": [
    {
     "name": "stdout",
     "output_type": "stream",
     "text": [
      "[  1.04960120e+02,  -5.49804481e-03,   3.08285275e-02]\n"
     ]
    }
   ],
   "source": [
    "print(np.array2string(x_list_mean, separator=', '))"
   ]
  },
  {
   "cell_type": "code",
   "execution_count": 12,
   "metadata": {},
   "outputs": [
    {
     "data": {
      "text/plain": [
       "32"
      ]
     },
     "execution_count": 12,
     "metadata": {},
     "output_type": "execute_result"
    }
   ],
   "source": [
    "len(x_mean)"
   ]
  },
  {
   "cell_type": "code",
   "execution_count": 13,
   "metadata": {},
   "outputs": [
    {
     "name": "stdout",
     "output_type": "stream",
     "text": [
      "[ 85.77034272,   1.03762195,   1.83170033]\n"
     ]
    }
   ],
   "source": [
    "print(np.array2string(x_list_std, separator=', '))"
   ]
  },
  {
   "cell_type": "code",
   "execution_count": 14,
   "metadata": {},
   "outputs": [
    {
     "data": {
      "text/plain": [
       "(array([  7.51220000e+04,   0.00000000e+00,   0.00000000e+00,\n",
       "          0.00000000e+00,   0.00000000e+00,   0.00000000e+00,\n",
       "          0.00000000e+00,   8.71760000e+04,   0.00000000e+00,\n",
       "          0.00000000e+00,   0.00000000e+00,   0.00000000e+00,\n",
       "          0.00000000e+00,   0.00000000e+00,   5.28870000e+04,\n",
       "          0.00000000e+00,   0.00000000e+00,   0.00000000e+00,\n",
       "          0.00000000e+00,   0.00000000e+00,   0.00000000e+00,\n",
       "          2.31520000e+04,   0.00000000e+00,   0.00000000e+00,\n",
       "          0.00000000e+00,   0.00000000e+00,   0.00000000e+00,\n",
       "          0.00000000e+00,   0.00000000e+00,   8.47400000e+03,\n",
       "          0.00000000e+00,   0.00000000e+00,   0.00000000e+00,\n",
       "          0.00000000e+00,   0.00000000e+00,   0.00000000e+00,\n",
       "          2.68200000e+03,   0.00000000e+00,   0.00000000e+00,\n",
       "          0.00000000e+00,   0.00000000e+00,   0.00000000e+00,\n",
       "          0.00000000e+00,   7.91000000e+02,   0.00000000e+00,\n",
       "          0.00000000e+00,   0.00000000e+00,   0.00000000e+00,\n",
       "          0.00000000e+00,   0.00000000e+00,   2.21000000e+02,\n",
       "          0.00000000e+00,   0.00000000e+00,   0.00000000e+00,\n",
       "          0.00000000e+00,   0.00000000e+00,   0.00000000e+00,\n",
       "          0.00000000e+00,   5.60000000e+01,   0.00000000e+00,\n",
       "          0.00000000e+00,   0.00000000e+00,   0.00000000e+00,\n",
       "          0.00000000e+00,   0.00000000e+00,   1.00000000e+01,\n",
       "          0.00000000e+00,   0.00000000e+00,   0.00000000e+00,\n",
       "          0.00000000e+00,   0.00000000e+00,   0.00000000e+00,\n",
       "          2.00000000e+00,   0.00000000e+00,   0.00000000e+00,\n",
       "          0.00000000e+00,   0.00000000e+00,   0.00000000e+00,\n",
       "          0.00000000e+00,   1.00000000e+00]),\n",
       " array([-2.10059392, -2.01345288, -1.92631183, -1.83917079, -1.75202975,\n",
       "        -1.66488871, -1.57774767, -1.49060663, -1.40346559, -1.31632455,\n",
       "        -1.2291835 , -1.14204246, -1.05490142, -0.96776038, -0.88061934,\n",
       "        -0.7934783 , -0.70633726, -0.61919621, -0.53205517, -0.44491413,\n",
       "        -0.35777309, -0.27063205, -0.18349101, -0.09634997, -0.00920893,\n",
       "         0.07793212,  0.16507316,  0.2522142 ,  0.33935524,  0.42649628,\n",
       "         0.51363732,  0.60077836,  0.68791941,  0.77506045,  0.86220149,\n",
       "         0.94934253,  1.03648357,  1.12362461,  1.21076565,  1.29790669,\n",
       "         1.38504774,  1.47218878,  1.55932982,  1.64647086,  1.7336119 ,\n",
       "         1.82075294,  1.90789398,  1.99503503,  2.08217607,  2.16931711,\n",
       "         2.25645815,  2.34359919,  2.43074023,  2.51788127,  2.60502231,\n",
       "         2.69216336,  2.7793044 ,  2.86644544,  2.95358648,  3.04072752,\n",
       "         3.12786856,  3.2150096 ,  3.30215065,  3.38929169,  3.47643273,\n",
       "         3.56357377,  3.65071481,  3.73785585,  3.82499689,  3.91213793,\n",
       "         3.99927898,  4.08642002,  4.17356106,  4.2607021 ,  4.34784314,\n",
       "         4.43498418,  4.52212522,  4.60926627,  4.69640731,  4.78354835,\n",
       "         4.87068939]),\n",
       " <a list of 80 Patch objects>)"
      ]
     },
     "execution_count": 14,
     "metadata": {},
     "output_type": "execute_result"
    },
    {
     "data": {
      "image/png": "[encoded data removed]",
      "text/plain": [
       "<matplotlib.figure.Figure at 0x7f53000045d0>"
      ]
     },
     "metadata": {},
     "output_type": "display_data"
    }
   ],
   "source": [
    "plt.hist(normed_sig_frame['ttH_njets'],bins=80)"
   ]
  },
  {
   "cell_type": "code",
   "execution_count": null,
   "metadata": {},
   "outputs": [],
   "source": []
  }
 ],
 "metadata": {
  "kernelspec": {
   "display_name": "Python 3",
   "language": "python",
   "name": "python3"
  },
  "language_info": {
   "codemirror_mode": {
    "name": "ipython",
    "version": 3
   },
   "file_extension": ".py",
   "mimetype": "text/x-python",
   "name": "python",
   "nbconvert_exporter": "python",
   "pygments_lexer": "ipython3",
   "version": "3.6.8"
  }
 },
 "nbformat": 4,
 "nbformat_minor": 4
}
